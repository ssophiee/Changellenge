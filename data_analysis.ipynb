{
 "cells": [
  {
   "cell_type": "code",
   "execution_count": 1,
   "metadata": {},
   "outputs": [],
   "source": [
    "import pandas as pd"
   ]
  },
  {
   "cell_type": "code",
   "execution_count": 2,
   "metadata": {},
   "outputs": [
    {
     "name": "stdout",
     "output_type": "stream",
     "text": [
      "Data Analysis.ipynb   snli_1.0_dev.txt      snli_1.0_train.jsonl\r\n",
      "description.pdf       snli_1.0_test.jsonl   snli_1.0_train.txt\r\n",
      "snli_1.0_dev.jsonl    snli_1.0_test.txt\r\n"
     ]
    }
   ],
   "source": [
    "%ls"
   ]
  },
  {
   "cell_type": "markdown",
   "metadata": {},
   "source": [
    "Загрузим данные. Известно, что выборки содержат следующее количество объектов:\n",
    "* Обучающая (train) - 550 152\n",
    "* Валидационная (dev) - 10 000\n",
    "* Тестовая (test) - 10 000"
   ]
  },
  {
   "cell_type": "code",
   "execution_count": 3,
   "metadata": {},
   "outputs": [],
   "source": [
    "df_train = pd.read_json('snli_1.0_train.jsonl', lines=True)\n",
    "df_dev = pd.read_json('snli_1.0_dev.jsonl', lines=True)\n",
    "df_test = pd.read_json('snli_1.0_test.jsonl', lines=True)"
   ]
  },
  {
   "cell_type": "markdown",
   "metadata": {},
   "source": [
    "# Анализ данных\n",
    "\n",
    "Целевая метка - **gold_label**, которая содержит 3 следующих класса:\n",
    "1. entailment (из параграфа 1 следует параграф 2)\n",
    "2. contradiction (параграф 1 противоречит параграфу 2)\n",
    "3. neutral (в параграфе 1 и параграфе 2 содержится схожая по смыслу информация)\n",
    "\n",
    "Датасет был размечен вручную, каждая пара параграфов оценивалась пятью независимыми экспертами. Столбцы label1...label5 соответствуют оценке каждого человека, а столбец gold_label содержит обобщенную оценку (majority voting). Помимо этого, в датасете можно найти лексический разбор каждого параграфа, что может оказаться очень полезным при подготовке фичей."
   ]
  },
  {
   "cell_type": "markdown",
   "metadata": {},
   "source": [
    "Взглянем на признаки исследуемых объектов. Как видим, каждая выборка содержит одинаковое количество признаков"
   ]
  },
  {
   "cell_type": "code",
   "execution_count": 4,
   "metadata": {},
   "outputs": [
    {
     "data": {
      "text/plain": [
       "Index(['annotator_labels', 'captionID', 'gold_label', 'pairID', 'sentence1',\n",
       "       'sentence1_binary_parse', 'sentence1_parse', 'sentence2',\n",
       "       'sentence2_binary_parse', 'sentence2_parse'],\n",
       "      dtype='object')"
      ]
     },
     "execution_count": 4,
     "metadata": {},
     "output_type": "execute_result"
    }
   ],
   "source": [
    "df_train.columns"
   ]
  },
  {
   "cell_type": "code",
   "execution_count": 5,
   "metadata": {},
   "outputs": [
    {
     "data": {
      "text/plain": [
       "Index(['annotator_labels', 'captionID', 'gold_label', 'pairID', 'sentence1',\n",
       "       'sentence1_binary_parse', 'sentence1_parse', 'sentence2',\n",
       "       'sentence2_binary_parse', 'sentence2_parse'],\n",
       "      dtype='object')"
      ]
     },
     "execution_count": 5,
     "metadata": {},
     "output_type": "execute_result"
    }
   ],
   "source": [
    "df_dev.columns"
   ]
  },
  {
   "cell_type": "code",
   "execution_count": 6,
   "metadata": {},
   "outputs": [
    {
     "data": {
      "text/plain": [
       "Index(['annotator_labels', 'captionID', 'gold_label', 'pairID', 'sentence1',\n",
       "       'sentence1_binary_parse', 'sentence1_parse', 'sentence2',\n",
       "       'sentence2_binary_parse', 'sentence2_parse'],\n",
       "      dtype='object')"
      ]
     },
     "execution_count": 6,
     "metadata": {},
     "output_type": "execute_result"
    }
   ],
   "source": [
    "df_test.columns"
   ]
  },
  {
   "cell_type": "markdown",
   "metadata": {},
   "source": [
    "Посмотрим на распределение классов во всех трех выборках. Как видим, оно почти одинаковое во всех трех случаях:"
   ]
  },
  {
   "cell_type": "code",
   "execution_count": 7,
   "metadata": {},
   "outputs": [
    {
     "data": {
      "text/plain": [
       "entailment       183416\n",
       "contradiction    183187\n",
       "neutral          182764\n",
       "-                   785\n",
       "Name: gold_label, dtype: int64"
      ]
     },
     "execution_count": 7,
     "metadata": {},
     "output_type": "execute_result"
    }
   ],
   "source": [
    "df_train.gold_label.value_counts()"
   ]
  },
  {
   "cell_type": "code",
   "execution_count": 8,
   "metadata": {},
   "outputs": [
    {
     "data": {
      "text/plain": [
       "entailment       3329\n",
       "contradiction    3278\n",
       "neutral          3235\n",
       "-                 158\n",
       "Name: gold_label, dtype: int64"
      ]
     },
     "execution_count": 8,
     "metadata": {},
     "output_type": "execute_result"
    }
   ],
   "source": [
    "df_dev.gold_label.value_counts()"
   ]
  },
  {
   "cell_type": "code",
   "execution_count": 9,
   "metadata": {},
   "outputs": [
    {
     "data": {
      "text/plain": [
       "entailment       3368\n",
       "contradiction    3237\n",
       "neutral          3219\n",
       "-                 176\n",
       "Name: gold_label, dtype: int64"
      ]
     },
     "execution_count": 9,
     "metadata": {},
     "output_type": "execute_result"
    }
   ],
   "source": [
    "df_test.gold_label.value_counts()"
   ]
  },
  {
   "cell_type": "code",
   "execution_count": 10,
   "metadata": {},
   "outputs": [
    {
     "data": {
      "text/html": [
       "<div>\n",
       "<style scoped>\n",
       "    .dataframe tbody tr th:only-of-type {\n",
       "        vertical-align: middle;\n",
       "    }\n",
       "\n",
       "    .dataframe tbody tr th {\n",
       "        vertical-align: top;\n",
       "    }\n",
       "\n",
       "    .dataframe thead th {\n",
       "        text-align: right;\n",
       "    }\n",
       "</style>\n",
       "<table border=\"1\" class=\"dataframe\">\n",
       "  <thead>\n",
       "    <tr style=\"text-align: right;\">\n",
       "      <th></th>\n",
       "      <th>annotator_labels</th>\n",
       "      <th>captionID</th>\n",
       "      <th>gold_label</th>\n",
       "      <th>pairID</th>\n",
       "      <th>sentence1</th>\n",
       "      <th>sentence1_binary_parse</th>\n",
       "      <th>sentence1_parse</th>\n",
       "      <th>sentence2</th>\n",
       "      <th>sentence2_binary_parse</th>\n",
       "      <th>sentence2_parse</th>\n",
       "    </tr>\n",
       "  </thead>\n",
       "  <tbody>\n",
       "    <tr>\n",
       "      <th>0</th>\n",
       "      <td>[neutral]</td>\n",
       "      <td>3416050480.jpg#4</td>\n",
       "      <td>neutral</td>\n",
       "      <td>3416050480.jpg#4r1n</td>\n",
       "      <td>A person on a horse jumps over a broken down a...</td>\n",
       "      <td>( ( ( A person ) ( on ( a horse ) ) ) ( ( jump...</td>\n",
       "      <td>(ROOT (S (NP (NP (DT A) (NN person)) (PP (IN o...</td>\n",
       "      <td>A person is training his horse for a competition.</td>\n",
       "      <td>( ( A person ) ( ( is ( ( training ( his horse...</td>\n",
       "      <td>(ROOT (S (NP (DT A) (NN person)) (VP (VBZ is) ...</td>\n",
       "    </tr>\n",
       "    <tr>\n",
       "      <th>1</th>\n",
       "      <td>[contradiction]</td>\n",
       "      <td>3416050480.jpg#4</td>\n",
       "      <td>contradiction</td>\n",
       "      <td>3416050480.jpg#4r1c</td>\n",
       "      <td>A person on a horse jumps over a broken down a...</td>\n",
       "      <td>( ( ( A person ) ( on ( a horse ) ) ) ( ( jump...</td>\n",
       "      <td>(ROOT (S (NP (NP (DT A) (NN person)) (PP (IN o...</td>\n",
       "      <td>A person is at a diner, ordering an omelette.</td>\n",
       "      <td>( ( A person ) ( ( ( ( is ( at ( a diner ) ) )...</td>\n",
       "      <td>(ROOT (S (NP (DT A) (NN person)) (VP (VBZ is) ...</td>\n",
       "    </tr>\n",
       "    <tr>\n",
       "      <th>2</th>\n",
       "      <td>[entailment]</td>\n",
       "      <td>3416050480.jpg#4</td>\n",
       "      <td>entailment</td>\n",
       "      <td>3416050480.jpg#4r1e</td>\n",
       "      <td>A person on a horse jumps over a broken down a...</td>\n",
       "      <td>( ( ( A person ) ( on ( a horse ) ) ) ( ( jump...</td>\n",
       "      <td>(ROOT (S (NP (NP (DT A) (NN person)) (PP (IN o...</td>\n",
       "      <td>A person is outdoors, on a horse.</td>\n",
       "      <td>( ( A person ) ( ( ( ( is outdoors ) , ) ( on ...</td>\n",
       "      <td>(ROOT (S (NP (DT A) (NN person)) (VP (VBZ is) ...</td>\n",
       "    </tr>\n",
       "    <tr>\n",
       "      <th>3</th>\n",
       "      <td>[neutral]</td>\n",
       "      <td>2267923837.jpg#2</td>\n",
       "      <td>neutral</td>\n",
       "      <td>2267923837.jpg#2r1n</td>\n",
       "      <td>Children smiling and waving at camera</td>\n",
       "      <td>( Children ( ( ( smiling and ) waving ) ( at c...</td>\n",
       "      <td>(ROOT (NP (S (NP (NNP Children)) (VP (VBG smil...</td>\n",
       "      <td>They are smiling at their parents</td>\n",
       "      <td>( They ( are ( smiling ( at ( their parents ) ...</td>\n",
       "      <td>(ROOT (S (NP (PRP They)) (VP (VBP are) (VP (VB...</td>\n",
       "    </tr>\n",
       "    <tr>\n",
       "      <th>4</th>\n",
       "      <td>[entailment]</td>\n",
       "      <td>2267923837.jpg#2</td>\n",
       "      <td>entailment</td>\n",
       "      <td>2267923837.jpg#2r1e</td>\n",
       "      <td>Children smiling and waving at camera</td>\n",
       "      <td>( Children ( ( ( smiling and ) waving ) ( at c...</td>\n",
       "      <td>(ROOT (NP (S (NP (NNP Children)) (VP (VBG smil...</td>\n",
       "      <td>There are children present</td>\n",
       "      <td>( There ( ( are children ) present ) )</td>\n",
       "      <td>(ROOT (S (NP (EX There)) (VP (VBP are) (NP (NN...</td>\n",
       "    </tr>\n",
       "    <tr>\n",
       "      <th>...</th>\n",
       "      <td>...</td>\n",
       "      <td>...</td>\n",
       "      <td>...</td>\n",
       "      <td>...</td>\n",
       "      <td>...</td>\n",
       "      <td>...</td>\n",
       "      <td>...</td>\n",
       "      <td>...</td>\n",
       "      <td>...</td>\n",
       "      <td>...</td>\n",
       "    </tr>\n",
       "    <tr>\n",
       "      <th>550147</th>\n",
       "      <td>[contradiction]</td>\n",
       "      <td>2267923837.jpg#3</td>\n",
       "      <td>contradiction</td>\n",
       "      <td>2267923837.jpg#3r1c</td>\n",
       "      <td>Four dirty and barefooted children.</td>\n",
       "      <td>( ( ( ( Four dirty ) and ) ( barefooted childr...</td>\n",
       "      <td>(ROOT (NP (NP (CD Four) (NNS dirty)) (CC and) ...</td>\n",
       "      <td>four kids won awards for 'cleanest feet'</td>\n",
       "      <td>( ( four kids ) ( ( won awards ) ( ( ( for ` )...</td>\n",
       "      <td>(ROOT (S (NP (CD four) (NNS kids)) (VP (VBD wo...</td>\n",
       "    </tr>\n",
       "    <tr>\n",
       "      <th>550148</th>\n",
       "      <td>[neutral]</td>\n",
       "      <td>2267923837.jpg#3</td>\n",
       "      <td>neutral</td>\n",
       "      <td>2267923837.jpg#3r1n</td>\n",
       "      <td>Four dirty and barefooted children.</td>\n",
       "      <td>( ( ( ( Four dirty ) and ) ( barefooted childr...</td>\n",
       "      <td>(ROOT (NP (NP (CD Four) (NNS dirty)) (CC and) ...</td>\n",
       "      <td>four homeless children had their shoes stolen,...</td>\n",
       "      <td>( ( ( ( ( ( four ( homeless children ) ) ( had...</td>\n",
       "      <td>(ROOT (S (S (NP (CD four) (JJ homeless) (NNS c...</td>\n",
       "    </tr>\n",
       "    <tr>\n",
       "      <th>550149</th>\n",
       "      <td>[neutral]</td>\n",
       "      <td>7979219683.jpg#2</td>\n",
       "      <td>neutral</td>\n",
       "      <td>7979219683.jpg#2r1n</td>\n",
       "      <td>A man is surfing in a bodysuit in beautiful bl...</td>\n",
       "      <td>( ( A man ) ( ( is ( surfing ( in ( ( a bodysu...</td>\n",
       "      <td>(ROOT (S (NP (DT A) (NN man)) (VP (VBZ is) (VP...</td>\n",
       "      <td>A man in a bodysuit is competing in a surfing ...</td>\n",
       "      <td>( ( ( A man ) ( in ( a bodysuit ) ) ) ( ( is (...</td>\n",
       "      <td>(ROOT (S (NP (NP (DT A) (NN man)) (PP (IN in) ...</td>\n",
       "    </tr>\n",
       "    <tr>\n",
       "      <th>550150</th>\n",
       "      <td>[contradiction]</td>\n",
       "      <td>7979219683.jpg#2</td>\n",
       "      <td>contradiction</td>\n",
       "      <td>7979219683.jpg#2r1c</td>\n",
       "      <td>A man is surfing in a bodysuit in beautiful bl...</td>\n",
       "      <td>( ( A man ) ( ( is ( surfing ( in ( ( a bodysu...</td>\n",
       "      <td>(ROOT (S (NP (DT A) (NN man)) (VP (VBZ is) (VP...</td>\n",
       "      <td>A man in a business suit is heading to a board...</td>\n",
       "      <td>( ( ( A man ) ( in ( a ( business suit ) ) ) )...</td>\n",
       "      <td>(ROOT (S (NP (NP (DT A) (NN man)) (PP (IN in) ...</td>\n",
       "    </tr>\n",
       "    <tr>\n",
       "      <th>550151</th>\n",
       "      <td>[entailment]</td>\n",
       "      <td>7979219683.jpg#2</td>\n",
       "      <td>entailment</td>\n",
       "      <td>7979219683.jpg#2r1e</td>\n",
       "      <td>A man is surfing in a bodysuit in beautiful bl...</td>\n",
       "      <td>( ( A man ) ( ( is ( surfing ( in ( ( a bodysu...</td>\n",
       "      <td>(ROOT (S (NP (DT A) (NN man)) (VP (VBZ is) (VP...</td>\n",
       "      <td>On the beautiful blue water there is a man in ...</td>\n",
       "      <td>( ( On ( the ( beautiful ( blue water ) ) ) ) ...</td>\n",
       "      <td>(ROOT (S (PP (IN On) (NP (DT the) (JJ beautifu...</td>\n",
       "    </tr>\n",
       "  </tbody>\n",
       "</table>\n",
       "<p>550152 rows × 10 columns</p>\n",
       "</div>"
      ],
      "text/plain": [
       "       annotator_labels         captionID     gold_label               pairID  \\\n",
       "0             [neutral]  3416050480.jpg#4        neutral  3416050480.jpg#4r1n   \n",
       "1       [contradiction]  3416050480.jpg#4  contradiction  3416050480.jpg#4r1c   \n",
       "2          [entailment]  3416050480.jpg#4     entailment  3416050480.jpg#4r1e   \n",
       "3             [neutral]  2267923837.jpg#2        neutral  2267923837.jpg#2r1n   \n",
       "4          [entailment]  2267923837.jpg#2     entailment  2267923837.jpg#2r1e   \n",
       "...                 ...               ...            ...                  ...   \n",
       "550147  [contradiction]  2267923837.jpg#3  contradiction  2267923837.jpg#3r1c   \n",
       "550148        [neutral]  2267923837.jpg#3        neutral  2267923837.jpg#3r1n   \n",
       "550149        [neutral]  7979219683.jpg#2        neutral  7979219683.jpg#2r1n   \n",
       "550150  [contradiction]  7979219683.jpg#2  contradiction  7979219683.jpg#2r1c   \n",
       "550151     [entailment]  7979219683.jpg#2     entailment  7979219683.jpg#2r1e   \n",
       "\n",
       "                                                sentence1  \\\n",
       "0       A person on a horse jumps over a broken down a...   \n",
       "1       A person on a horse jumps over a broken down a...   \n",
       "2       A person on a horse jumps over a broken down a...   \n",
       "3                   Children smiling and waving at camera   \n",
       "4                   Children smiling and waving at camera   \n",
       "...                                                   ...   \n",
       "550147                Four dirty and barefooted children.   \n",
       "550148                Four dirty and barefooted children.   \n",
       "550149  A man is surfing in a bodysuit in beautiful bl...   \n",
       "550150  A man is surfing in a bodysuit in beautiful bl...   \n",
       "550151  A man is surfing in a bodysuit in beautiful bl...   \n",
       "\n",
       "                                   sentence1_binary_parse  \\\n",
       "0       ( ( ( A person ) ( on ( a horse ) ) ) ( ( jump...   \n",
       "1       ( ( ( A person ) ( on ( a horse ) ) ) ( ( jump...   \n",
       "2       ( ( ( A person ) ( on ( a horse ) ) ) ( ( jump...   \n",
       "3       ( Children ( ( ( smiling and ) waving ) ( at c...   \n",
       "4       ( Children ( ( ( smiling and ) waving ) ( at c...   \n",
       "...                                                   ...   \n",
       "550147  ( ( ( ( Four dirty ) and ) ( barefooted childr...   \n",
       "550148  ( ( ( ( Four dirty ) and ) ( barefooted childr...   \n",
       "550149  ( ( A man ) ( ( is ( surfing ( in ( ( a bodysu...   \n",
       "550150  ( ( A man ) ( ( is ( surfing ( in ( ( a bodysu...   \n",
       "550151  ( ( A man ) ( ( is ( surfing ( in ( ( a bodysu...   \n",
       "\n",
       "                                          sentence1_parse  \\\n",
       "0       (ROOT (S (NP (NP (DT A) (NN person)) (PP (IN o...   \n",
       "1       (ROOT (S (NP (NP (DT A) (NN person)) (PP (IN o...   \n",
       "2       (ROOT (S (NP (NP (DT A) (NN person)) (PP (IN o...   \n",
       "3       (ROOT (NP (S (NP (NNP Children)) (VP (VBG smil...   \n",
       "4       (ROOT (NP (S (NP (NNP Children)) (VP (VBG smil...   \n",
       "...                                                   ...   \n",
       "550147  (ROOT (NP (NP (CD Four) (NNS dirty)) (CC and) ...   \n",
       "550148  (ROOT (NP (NP (CD Four) (NNS dirty)) (CC and) ...   \n",
       "550149  (ROOT (S (NP (DT A) (NN man)) (VP (VBZ is) (VP...   \n",
       "550150  (ROOT (S (NP (DT A) (NN man)) (VP (VBZ is) (VP...   \n",
       "550151  (ROOT (S (NP (DT A) (NN man)) (VP (VBZ is) (VP...   \n",
       "\n",
       "                                                sentence2  \\\n",
       "0       A person is training his horse for a competition.   \n",
       "1           A person is at a diner, ordering an omelette.   \n",
       "2                       A person is outdoors, on a horse.   \n",
       "3                       They are smiling at their parents   \n",
       "4                              There are children present   \n",
       "...                                                   ...   \n",
       "550147           four kids won awards for 'cleanest feet'   \n",
       "550148  four homeless children had their shoes stolen,...   \n",
       "550149  A man in a bodysuit is competing in a surfing ...   \n",
       "550150  A man in a business suit is heading to a board...   \n",
       "550151  On the beautiful blue water there is a man in ...   \n",
       "\n",
       "                                   sentence2_binary_parse  \\\n",
       "0       ( ( A person ) ( ( is ( ( training ( his horse...   \n",
       "1       ( ( A person ) ( ( ( ( is ( at ( a diner ) ) )...   \n",
       "2       ( ( A person ) ( ( ( ( is outdoors ) , ) ( on ...   \n",
       "3       ( They ( are ( smiling ( at ( their parents ) ...   \n",
       "4                  ( There ( ( are children ) present ) )   \n",
       "...                                                   ...   \n",
       "550147  ( ( four kids ) ( ( won awards ) ( ( ( for ` )...   \n",
       "550148  ( ( ( ( ( ( four ( homeless children ) ) ( had...   \n",
       "550149  ( ( ( A man ) ( in ( a bodysuit ) ) ) ( ( is (...   \n",
       "550150  ( ( ( A man ) ( in ( a ( business suit ) ) ) )...   \n",
       "550151  ( ( On ( the ( beautiful ( blue water ) ) ) ) ...   \n",
       "\n",
       "                                          sentence2_parse  \n",
       "0       (ROOT (S (NP (DT A) (NN person)) (VP (VBZ is) ...  \n",
       "1       (ROOT (S (NP (DT A) (NN person)) (VP (VBZ is) ...  \n",
       "2       (ROOT (S (NP (DT A) (NN person)) (VP (VBZ is) ...  \n",
       "3       (ROOT (S (NP (PRP They)) (VP (VBP are) (VP (VB...  \n",
       "4       (ROOT (S (NP (EX There)) (VP (VBP are) (NP (NN...  \n",
       "...                                                   ...  \n",
       "550147  (ROOT (S (NP (CD four) (NNS kids)) (VP (VBD wo...  \n",
       "550148  (ROOT (S (S (NP (CD four) (JJ homeless) (NNS c...  \n",
       "550149  (ROOT (S (NP (NP (DT A) (NN man)) (PP (IN in) ...  \n",
       "550150  (ROOT (S (NP (NP (DT A) (NN man)) (PP (IN in) ...  \n",
       "550151  (ROOT (S (PP (IN On) (NP (DT the) (JJ beautifu...  \n",
       "\n",
       "[550152 rows x 10 columns]"
      ]
     },
     "execution_count": 10,
     "metadata": {},
     "output_type": "execute_result"
    }
   ],
   "source": [
    "df_train"
   ]
  },
  {
   "cell_type": "markdown",
   "metadata": {},
   "source": [
    "## Распределение количества оценок экспертов"
   ]
  },
  {
   "cell_type": "code",
   "execution_count": 38,
   "metadata": {},
   "outputs": [],
   "source": [
    "from collections import defaultdict\n",
    "\n",
    "def get_labels_distribution(df):\n",
    "    len_labels = defaultdict(lambda: 0)\n",
    "    labels = df.annotator_labels\n",
    "    gold_labels = df.gold_label\n",
    "    number_of_same_labels = 0\n",
    "    for i in range(len(labels)):\n",
    "        label_list = labels[i]\n",
    "        gold_label = gold_labels[i]\n",
    "        most_common_label = max(label_list, key = label_list.count)\n",
    "        if most_common_label == gold_label:\n",
    "            number_of_same_labels += 1\n",
    "        len_labels[len(label_list)] += 1\n",
    "    return (dict(len_labels), number_of_same_labels)"
   ]
  },
  {
   "cell_type": "code",
   "execution_count": 41,
   "metadata": {},
   "outputs": [
    {
     "name": "stdout",
     "output_type": "stream",
     "text": [
      "train: {1: 510711, 5: 36975, 4: 2466} \t 549367\n",
      "dev: {5: 9986, 4: 14} \t 9842\n",
      "test: {5: 9990, 4: 10} \t 9824\n"
     ]
    }
   ],
   "source": [
    "train_distribution, a1 = get_labels_distribution(df_train)\n",
    "dev_distribution, a2 = get_labels_distribution(df_dev)\n",
    "test_distribution, a3 = get_labels_distribution(df_test)\n",
    "print('train:', train_distribution, '\\t', a1)\n",
    "print('dev:', dev_distribution, '\\t', a2)\n",
    "print('test:', test_distribution, '\\t', a3)"
   ]
  },
  {
   "cell_type": "code",
   "execution_count": 43,
   "metadata": {},
   "outputs": [],
   "source": [
    "def print_paragraph(df, i):\n",
    "    print(df_train.loc[i, 'sentence1'])\n",
    "    print(df_train.loc[i, 'sentence1_parse'])\n",
    "    print(df_train.loc[i, 'sentence1_binary_parse'])"
   ]
  },
  {
   "cell_type": "code",
   "execution_count": 44,
   "metadata": {},
   "outputs": [
    {
     "name": "stdout",
     "output_type": "stream",
     "text": [
      "A person on a horse jumps over a broken down airplane.\n",
      "(ROOT (S (NP (NP (DT A) (NN person)) (PP (IN on) (NP (DT a) (NN horse)))) (VP (VBZ jumps) (PP (IN over) (NP (DT a) (JJ broken) (JJ down) (NN airplane)))) (. .)))\n",
      "( ( ( A person ) ( on ( a horse ) ) ) ( ( jumps ( over ( a ( broken ( down airplane ) ) ) ) ) . ) )\n"
     ]
    }
   ],
   "source": [
    "print_paragraph(df_train, 0)"
   ]
  },
  {
   "cell_type": "code",
   "execution_count": null,
   "metadata": {},
   "outputs": [],
   "source": []
  }
 ],
 "metadata": {
  "kernelspec": {
   "display_name": "Python 3",
   "language": "python",
   "name": "python3"
  },
  "language_info": {
   "codemirror_mode": {
    "name": "ipython",
    "version": 3
   },
   "file_extension": ".py",
   "mimetype": "text/x-python",
   "name": "python",
   "nbconvert_exporter": "python",
   "pygments_lexer": "ipython3",
   "version": "3.8.5"
  }
 },
 "nbformat": 4,
 "nbformat_minor": 4
}
